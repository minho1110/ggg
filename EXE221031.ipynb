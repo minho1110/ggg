{
  "nbformat": 4,
  "nbformat_minor": 0,
  "metadata": {
    "colab": {
      "provenance": [],
      "authorship_tag": "ABX9TyMJ9G1XdDdR2TIG6c7ByU3u",
      "include_colab_link": true
    },
    "kernelspec": {
      "name": "python3",
      "display_name": "Python 3"
    },
    "language_info": {
      "name": "python"
    }
  },
  "cells": [
    {
      "cell_type": "markdown",
      "metadata": {
        "id": "view-in-github",
        "colab_type": "text"
      },
      "source": [
        "<a href=\"https://colab.research.google.com/github/minho1110/BP_10_Ch3/blob/main/EXE221031.ipynb\" target=\"_parent\"><img src=\"https://colab.research.google.com/assets/colab-badge.svg\" alt=\"Open In Colab\"/></a>"
      ]
    },
    {
      "cell_type": "code",
      "execution_count": null,
      "metadata": {
        "colab": {
          "base_uri": "https://localhost:8080/"
        },
        "id": "LWTt4JUo0-65",
        "outputId": "2ee8314d-971a-42d5-be16-4ff42cc10f7d"
      },
      "outputs": [
        {
          "output_type": "stream",
          "name": "stdout",
          "text": [
            "x의 값을 입력하시오.:5\n",
            "y의 값을 입력하시오.:4\n",
            "x와 y의 합은: 9\n",
            "x와 y의 차은: 1\n",
            "x와 y의 곱은: 20\n",
            "x와 y의 평균은: 7.0\n",
            "x와 y의 큰수은: 5\n",
            "x와 y의 작은수은: 4\n"
          ]
        }
      ],
      "source": [
        "x= int (input(\"x의 값을 입력하시오.:\"))\n",
        "y= int (input(\"y의 값을 입력하시오.:\"))\n",
        "\n",
        "print(\"x와 y의 합은:\",x+y)\n",
        "print(\"x와 y의 차은:\",x-y)\n",
        "print(\"x와 y의 곱은:\",x*y)\n",
        "print(\"x와 y의 평균은:\",(x+y/2))\n",
        "print(\"x와 y의 큰수은:\",max(x,y))\n",
        "print(\"x와 y의 작은수은:\",min(x,y))"
      ]
    },
    {
      "cell_type": "code",
      "source": [
        "r=float(input(\"r값을 입력하시오:\"))  #변수 r의 값을 사용자로부터 받는다. float형으로\n",
        "h=float(input(\"h값을 입력하시오:\")) #변수 h의 값을 사용자로부터 받는다. float형으로\n",
        "vot=3.141592 * r**2 * h\n",
        "print(\"원기둥의 부피는:\", vot, \"입니다.\")"
      ],
      "metadata": {
        "colab": {
          "base_uri": "https://localhost:8080/"
        },
        "id": "2p7VOyFh23HE",
        "outputId": "8fedd4a4-7d1d-4438-cd0e-2f2624826fe2"
      },
      "execution_count": null,
      "outputs": [
        {
          "output_type": "stream",
          "name": "stdout",
          "text": [
            "r값을 입력하시오:3\n",
            "h값을 입력하시오:5\n",
            "원기둥의 부피는: 141.37164 입니다.\n"
          ]
        }
      ]
    },
    {
      "cell_type": "code",
      "source": [
        "number = int(input(\"정수를 입력하시오.:\"))\n",
        "sum = 0          # 변수 sum을 초기화 0으로 한다.\n",
        "sum=sum + number % 10\n",
        "number = number // 10 \n",
        "sum=sum + number % 10\n",
        "number = number // 10 \n",
        "sum=sum + number % 10\n",
        "number = number // 10 \n",
        "sum=sum + number % 10\n",
        "number = number // 10 \n",
        "print(\"자리수의 합:\", str(sum))"
      ],
      "metadata": {
        "colab": {
          "base_uri": "https://localhost:8080/"
        },
        "id": "tXsw3HWS5hYU",
        "outputId": "674da195-9dc0-4d6d-9971-b29a261f3173"
      },
      "execution_count": null,
      "outputs": [
        {
          "output_type": "stream",
          "name": "stdout",
          "text": [
            "정수를 입력하시오.:12345\n",
            "자리수의 합: 14\n"
          ]
        }
      ]
    },
    {
      "cell_type": "code",
      "source": [
        "x1 = int(input(\"x1의 값:\"))\n",
        "y1 = int(input(\"y1의 값:\"))\n",
        "\n",
        "x2 = int(input(\"x2의 값:\"))\n",
        "y2 = int(input(\"y2의 값:\"))\n",
        "dist = ((x2-x1)**2 + (y2-y1)**2)**0.5\n",
        "print(\"두점 사이의 거리=\", dist , \"입니다.\")"
      ],
      "metadata": {
        "colab": {
          "base_uri": "https://localhost:8080/"
        },
        "id": "mmrME6kf8QZK",
        "outputId": "6c8c9882-f0f0-4614-fb1c-f85c1d4fd5c8"
      },
      "execution_count": null,
      "outputs": [
        {
          "output_type": "stream",
          "name": "stdout",
          "text": [
            "x1의 값:0\n",
            "y1의 값:0\n",
            "x2의 값:100\n",
            "y2의 값:100\n",
            "두점 사이의 거리= 141.4213562373095 입니다.\n"
          ]
        }
      ]
    },
    {
      "cell_type": "code",
      "source": [
        "import time\n",
        "fsecond=time.time()\n",
        "total_sec = int(fsecond)\n",
        "total_min = total_sec //60\n",
        "minute = total_min % 60\n",
        "total_hour = total_min // 60\n",
        "hour = total_hour % 24\n",
        "\n",
        "print(\"현재시각은 (영국 그리니치 표준시각):\", str(hour)+\"시\"+ str(minute) +\"분\")"
      ],
      "metadata": {
        "colab": {
          "base_uri": "https://localhost:8080/"
        },
        "id": "pkVi13yMH6G-",
        "outputId": "45661b46-e933-4e57-8023-57a1b2f0ee1a"
      },
      "execution_count": null,
      "outputs": [
        {
          "output_type": "stream",
          "name": "stdout",
          "text": [
            "현재시각은 (영국 그리니치 표준시각): 3시52분\n"
          ]
        }
      ]
    },
    {
      "cell_type": "code",
      "source": [
        "x= int(input(\"물체의 무게 :\"))\n",
        "y= int(input(\"물체의 속도 :\"))\n",
        "print(\"물체는 \",1/2*x*y**2,\"의 에너지를 가진다\")"
      ],
      "metadata": {
        "colab": {
          "base_uri": "https://localhost:8080/"
        },
        "id": "aGcacjFhALYf",
        "outputId": "ba6bf34b-fe26-4dc0-f593-29b8815fcf47"
      },
      "execution_count": 1,
      "outputs": [
        {
          "output_type": "stream",
          "name": "stdout",
          "text": [
            "물체의 무게 :10\n",
            "물체의 속도 :100\n",
            "물체는  50000.0 의 에너지를 가진다\n"
          ]
        }
      ]
    }
  ]
}